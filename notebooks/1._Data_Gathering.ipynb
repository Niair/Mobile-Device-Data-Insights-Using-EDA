{
 "cells": [
  {
   "cell_type": "markdown",
   "metadata": {
    "id": "nZe_KjTyCCzC"
   },
   "source": [
    "# **Data Gathering**\n",
    "\n",
    "\n"
   ]
  },
  {
   "cell_type": "code",
   "execution_count": 1,
   "metadata": {
    "id": "Y1Wtr0OWvmUE"
   },
   "outputs": [],
   "source": [
    "import pandas as pd\n",
    "import numpy as np"
   ]
  },
  {
   "cell_type": "code",
   "execution_count": 3,
   "metadata": {
    "id": "igFfSC3OxyJC"
   },
   "outputs": [],
   "source": [
    "data = pd.read_csv(\"../data/raw/smartphones.csv\")"
   ]
  },
  {
   "cell_type": "code",
   "execution_count": 5,
   "metadata": {
    "colab": {
     "base_uri": "https://localhost:8080/"
    },
    "executionInfo": {
     "elapsed": 12,
     "status": "ok",
     "timestamp": 1738418832541,
     "user": {
      "displayName": "Nihal Kumar",
      "userId": "07030143413226581701"
     },
     "user_tz": -330
    },
    "id": "yazADvy3x8cf",
    "outputId": "83a20967-c701-4330-9f30-ee66b04af5d1"
   },
   "outputs": [
    {
     "data": {
      "text/html": [
       "<div>\n",
       "<style scoped>\n",
       "    .dataframe tbody tr th:only-of-type {\n",
       "        vertical-align: middle;\n",
       "    }\n",
       "\n",
       "    .dataframe tbody tr th {\n",
       "        vertical-align: top;\n",
       "    }\n",
       "\n",
       "    .dataframe thead th {\n",
       "        text-align: right;\n",
       "    }\n",
       "</style>\n",
       "<table border=\"1\" class=\"dataframe\">\n",
       "  <thead>\n",
       "    <tr style=\"text-align: right;\">\n",
       "      <th></th>\n",
       "      <th>model</th>\n",
       "      <th>price</th>\n",
       "      <th>rating</th>\n",
       "      <th>sim</th>\n",
       "      <th>processor</th>\n",
       "      <th>ram</th>\n",
       "      <th>battery</th>\n",
       "      <th>display</th>\n",
       "      <th>camera</th>\n",
       "      <th>card</th>\n",
       "      <th>os</th>\n",
       "    </tr>\n",
       "  </thead>\n",
       "  <tbody>\n",
       "    <tr>\n",
       "      <th>933</th>\n",
       "      <td>Tecno Camon 20 Premier</td>\n",
       "      <td>₹20,999</td>\n",
       "      <td>79.0</td>\n",
       "      <td>Dual Sim, 3G, 4G, 5G, VoLTE, Wi-Fi, NFC</td>\n",
       "      <td>Dimensity  700 5G, Octa Core, 2.2 GHz Processor</td>\n",
       "      <td>6 GB RAM, 128 GB inbuilt</td>\n",
       "      <td>5000 mAh Battery with 33W Fast Charging</td>\n",
       "      <td>6.83 inches, 1080 x 2460 px, 120 Hz Display wi...</td>\n",
       "      <td>50 MP + 2 MP + 2 MP Triple Rear &amp; 16 MP Front ...</td>\n",
       "      <td>Android v13</td>\n",
       "      <td>Bluetooth</td>\n",
       "    </tr>\n",
       "    <tr>\n",
       "      <th>155</th>\n",
       "      <td>Nokia 2780 Flip</td>\n",
       "      <td>₹4,990</td>\n",
       "      <td>NaN</td>\n",
       "      <td>Dual Sim, 3G, 4G, Wi-Fi</td>\n",
       "      <td>Snapdragon QM215, Quad Core, 1.3 GHz Processor</td>\n",
       "      <td>4 GB RAM, 512 MB inbuilt</td>\n",
       "      <td>1450 mAh Battery</td>\n",
       "      <td>2.7 inches, 240 x 320 px Display</td>\n",
       "      <td>Dual Display</td>\n",
       "      <td>5 MP Rear Camera</td>\n",
       "      <td>Memory Card Supported, upto 32 GB</td>\n",
       "    </tr>\n",
       "    <tr>\n",
       "      <th>727</th>\n",
       "      <td>iQOO Z7 Pro 5G</td>\n",
       "      <td>₹24,999</td>\n",
       "      <td>80.0</td>\n",
       "      <td>Dual Sim, 3G, 4G, 5G, VoLTE, Wi-Fi</td>\n",
       "      <td>Snapdragon  7 Gen1, Octa Core, 2.36 GHz Processor</td>\n",
       "      <td>6 GB RAM, 128 GB inbuilt</td>\n",
       "      <td>5000 mAh Battery with 67W Fast Charging</td>\n",
       "      <td>6.62 inches, 1080 x 2412 px, 144 Hz Display wi...</td>\n",
       "      <td>50 MP + 2 MP + 2 MP Triple Rear &amp; 16 MP Front ...</td>\n",
       "      <td>Memory Card Supported, upto 1 TB</td>\n",
       "      <td>Android v12</td>\n",
       "    </tr>\n",
       "    <tr>\n",
       "      <th>66</th>\n",
       "      <td>OnePlus 10 Pro 5G</td>\n",
       "      <td>₹60,999</td>\n",
       "      <td>89.0</td>\n",
       "      <td>Dual Sim, 3G, 4G, 5G, VoLTE, Wi-Fi, NFC</td>\n",
       "      <td>Snapdragon  8 Gen1, Octa Core, 3 GHz Processor</td>\n",
       "      <td>8 GB RAM, 128 GB inbuilt</td>\n",
       "      <td>5000 mAh Battery with 80W Fast Charging</td>\n",
       "      <td>6.7 inches, 1440 x 3216 px, 120 Hz Display wit...</td>\n",
       "      <td>50 MP + 48 MP + 8 MP Triple Rear &amp; 32 MP Front...</td>\n",
       "      <td>Android v12</td>\n",
       "      <td>No FM Radio</td>\n",
       "    </tr>\n",
       "    <tr>\n",
       "      <th>855</th>\n",
       "      <td>Realme 6 (6GB RAM + 64GB)</td>\n",
       "      <td>₹12,989</td>\n",
       "      <td>77.0</td>\n",
       "      <td>Dual Sim, 3G, 4G, VoLTE, Wi-Fi</td>\n",
       "      <td>Helio   G90T , Octa Core, 2.05 GHz Processor</td>\n",
       "      <td>6 GB RAM, 64 GB inbuilt</td>\n",
       "      <td>4300 mAh Battery with 30W Fast Charging</td>\n",
       "      <td>6.5 inches, 1080 x 2400 px, 90 Hz Display with...</td>\n",
       "      <td>64 MP Quad Rear &amp; 16 MP Front Camera</td>\n",
       "      <td>Memory Card Supported, upto 256 GB</td>\n",
       "      <td>Android v10</td>\n",
       "    </tr>\n",
       "    <tr>\n",
       "      <th>553</th>\n",
       "      <td>Xiaomi Redmi Note 10 Pro Max (6GB RAM + 128GB)</td>\n",
       "      <td>₹19,980</td>\n",
       "      <td>82.0</td>\n",
       "      <td>Dual Sim, 3G, 4G, VoLTE, Wi-Fi, IR Blaster</td>\n",
       "      <td>Snapdragon  732G, Octa Core, 2.3 GHz Processor</td>\n",
       "      <td>6 GB RAM, 128 GB inbuilt</td>\n",
       "      <td>5020 mAh Battery with 33W Fast Charging</td>\n",
       "      <td>6.67 inches, 1080 x 2400 px, 120 Hz Display wi...</td>\n",
       "      <td>108 MP Quad Rear &amp; 16 MP Front Camera</td>\n",
       "      <td>Memory Card Supported, upto 512 GB</td>\n",
       "      <td>Android v11</td>\n",
       "    </tr>\n",
       "  </tbody>\n",
       "</table>\n",
       "</div>"
      ],
      "text/plain": [
       "                                              model    price  rating  \\\n",
       "933                          Tecno Camon 20 Premier  ₹20,999    79.0   \n",
       "155                                 Nokia 2780 Flip   ₹4,990     NaN   \n",
       "727                                  iQOO Z7 Pro 5G  ₹24,999    80.0   \n",
       "66                                OnePlus 10 Pro 5G  ₹60,999    89.0   \n",
       "855                       Realme 6 (6GB RAM + 64GB)  ₹12,989    77.0   \n",
       "553  Xiaomi Redmi Note 10 Pro Max (6GB RAM + 128GB)  ₹19,980    82.0   \n",
       "\n",
       "                                            sim  \\\n",
       "933     Dual Sim, 3G, 4G, 5G, VoLTE, Wi-Fi, NFC   \n",
       "155                     Dual Sim, 3G, 4G, Wi-Fi   \n",
       "727          Dual Sim, 3G, 4G, 5G, VoLTE, Wi-Fi   \n",
       "66      Dual Sim, 3G, 4G, 5G, VoLTE, Wi-Fi, NFC   \n",
       "855              Dual Sim, 3G, 4G, VoLTE, Wi-Fi   \n",
       "553  Dual Sim, 3G, 4G, VoLTE, Wi-Fi, IR Blaster   \n",
       "\n",
       "                                             processor  \\\n",
       "933    Dimensity  700 5G, Octa Core, 2.2 GHz Processor   \n",
       "155     Snapdragon QM215, Quad Core, 1.3 GHz Processor   \n",
       "727  Snapdragon  7 Gen1, Octa Core, 2.36 GHz Processor   \n",
       "66      Snapdragon  8 Gen1, Octa Core, 3 GHz Processor   \n",
       "855       Helio   G90T , Octa Core, 2.05 GHz Processor   \n",
       "553     Snapdragon  732G, Octa Core, 2.3 GHz Processor   \n",
       "\n",
       "                          ram                                  battery  \\\n",
       "933  6 GB RAM, 128 GB inbuilt  5000 mAh Battery with 33W Fast Charging   \n",
       "155  4 GB RAM, 512 MB inbuilt                         1450 mAh Battery   \n",
       "727  6 GB RAM, 128 GB inbuilt  5000 mAh Battery with 67W Fast Charging   \n",
       "66   8 GB RAM, 128 GB inbuilt  5000 mAh Battery with 80W Fast Charging   \n",
       "855   6 GB RAM, 64 GB inbuilt  4300 mAh Battery with 30W Fast Charging   \n",
       "553  6 GB RAM, 128 GB inbuilt  5020 mAh Battery with 33W Fast Charging   \n",
       "\n",
       "                                               display  \\\n",
       "933  6.83 inches, 1080 x 2460 px, 120 Hz Display wi...   \n",
       "155                   2.7 inches, 240 x 320 px Display   \n",
       "727  6.62 inches, 1080 x 2412 px, 144 Hz Display wi...   \n",
       "66   6.7 inches, 1440 x 3216 px, 120 Hz Display wit...   \n",
       "855  6.5 inches, 1080 x 2400 px, 90 Hz Display with...   \n",
       "553  6.67 inches, 1080 x 2400 px, 120 Hz Display wi...   \n",
       "\n",
       "                                                camera  \\\n",
       "933  50 MP + 2 MP + 2 MP Triple Rear & 16 MP Front ...   \n",
       "155                                       Dual Display   \n",
       "727  50 MP + 2 MP + 2 MP Triple Rear & 16 MP Front ...   \n",
       "66   50 MP + 48 MP + 8 MP Triple Rear & 32 MP Front...   \n",
       "855               64 MP Quad Rear & 16 MP Front Camera   \n",
       "553              108 MP Quad Rear & 16 MP Front Camera   \n",
       "\n",
       "                                   card                                 os  \n",
       "933                         Android v13                          Bluetooth  \n",
       "155                    5 MP Rear Camera  Memory Card Supported, upto 32 GB  \n",
       "727    Memory Card Supported, upto 1 TB                        Android v12  \n",
       "66                          Android v12                        No FM Radio  \n",
       "855  Memory Card Supported, upto 256 GB                        Android v10  \n",
       "553  Memory Card Supported, upto 512 GB                        Android v11  "
      ]
     },
     "execution_count": 5,
     "metadata": {},
     "output_type": "execute_result"
    }
   ],
   "source": [
    "data.sample(6)"
   ]
  },
  {
   "cell_type": "markdown",
   "metadata": {
    "id": "aEUsSJNS1zMg"
   },
   "source": [
    "## **Meta Data**\n",
    "\n",
    "This data is about the smartphones. It contains the features of smart phones that also make some phones even costlear. The features contain in the mobile phone such as:-\n",
    "\n",
    "* model - tells you the model name of the device and name of the brand.\n",
    "* price - tells you the price of that device.\n",
    "* rating - this tells you the rating of that device.\n",
    "* sim - this contain that tells about the availability if 5G, doul sim slots and whether it has NFC.\n",
    "* processor - this contains the processor name, processor core and speed of the processor.\n",
    "* ram - it contain the data of ram size and inbuilt data.\n",
    "* battery - tells you about the size of the battery and whether the fast charging is available or not.\n",
    "* display - this contain the size of the display, refresh rate of the display and even the quality of the display.\n",
    "* camera - it contain the data of frun and rear cameras with their camera.\n",
    "* card - tells you whether the memory card is supported or not and if yes then how much.\n",
    "* os - it tells you the os of that devices.\n",
    "\n",
    "---\n",
    "\n"
   ]
  },
  {
   "cell_type": "code",
   "execution_count": null,
   "metadata": {},
   "outputs": [],
   "source": []
  }
 ],
 "metadata": {
  "colab": {
   "authorship_tag": "ABX9TyP1lvDWJT7jRf24khcjAP3A",
   "provenance": []
  },
  "kernelspec": {
   "display_name": "Python 3 (ipykernel)",
   "language": "python",
   "name": "python3"
  },
  "language_info": {
   "codemirror_mode": {
    "name": "ipython",
    "version": 3
   },
   "file_extension": ".py",
   "mimetype": "text/x-python",
   "name": "python",
   "nbconvert_exporter": "python",
   "pygments_lexer": "ipython3",
   "version": "3.12.4"
  }
 },
 "nbformat": 4,
 "nbformat_minor": 4
}
